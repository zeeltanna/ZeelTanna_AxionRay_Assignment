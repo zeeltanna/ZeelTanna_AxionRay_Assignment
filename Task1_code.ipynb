{
 "cells": [
  {
   "cell_type": "code",
   "execution_count": 9,
   "id": "dd37a28a-1935-4eda-af7e-c8380b969713",
   "metadata": {},
   "outputs": [
    {
     "name": "stdout",
     "output_type": "stream",
     "text": [
      "Categorization completed. File saved at: D:\\Axion Ray\\tagged_data_main.csv\n"
     ]
    }
   ],
   "source": [
    "import pandas as pd\n",
    "\n",
    "# Load the Excel file and sheets\n",
    "file_path = r'D:\\Axion Ray\\DA - Task 1..xlsx'\n",
    "df = pd.read_excel(file_path, sheet_name='Task')\n",
    "taxonomy = pd.read_excel(file_path, sheet_name='Taxonomy')\n",
    "\n",
    "# Clean and prepare keyword sets (drop NaNs, strip, lower)\n",
    "def get_clean_set(series):\n",
    "    return set(series.dropna().str.strip().str.lower())\n",
    "\n",
    "root_causes = get_clean_set(taxonomy['Root Cause'])\n",
    "symptom_conditions = get_clean_set(taxonomy['Symptom Condition '])\n",
    "symptom_components = get_clean_set(taxonomy['Symptom Component'])\n",
    "fix_conditions = get_clean_set(taxonomy['Fix Condition'])\n",
    "fix_components = get_clean_set(taxonomy['Fix Component'])\n",
    "\n",
    "# Tagging function\n",
    "def tag_row(row):\n",
    "    text = ' '.join([str(row['Complaint']), str(row['Cause']), str(row['Correction'])]).lower()\n",
    "\n",
    "    def find_matches(keywords, limit):\n",
    "        return [kw for kw in keywords if kw in text][:limit] + [''] * max(0, limit - len([kw for kw in keywords if kw in text][:limit]))\n",
    "\n",
    "    root = next((kw for kw in root_causes if kw in text), '')\n",
    "    sym_cond = find_matches(symptom_conditions, 3)\n",
    "    sym_comp = find_matches(symptom_components, 3)\n",
    "    fix_cond = find_matches(fix_conditions, 3)\n",
    "    fix_comp = find_matches(fix_components, 3)\n",
    "\n",
    "    return pd.Series([root] + sym_cond + sym_comp + fix_cond + fix_comp)\n",
    "\n",
    "# Apply tagging\n",
    "columns = [\n",
    "    'Root Cause',\n",
    "    'Symptom Condition 1', 'Symptom Condition 2', 'Symptom Condition 3',\n",
    "    'Symptom Component 1', 'Symptom Component 2', 'Symptom Component 3',\n",
    "    'Fix Condition 1', 'Fix Condition 2', 'Fix Condition 3',\n",
    "    'Fix Component 1', 'Fix Component 2', 'Fix Component 3'\n",
    "]\n",
    "\n",
    "df[columns] = df.apply(tag_row, axis=1)\n",
    "\n",
    "# Save results\n",
    "output_path = r'D:\\Axion Ray\\tagged_data_main.csv'\n",
    "df.to_csv(output_path, index=False)\n",
    "\n",
    "print(f\"Categorization completed. File saved at: {output_path}\")"
   ]
  },
  {
   "cell_type": "code",
   "execution_count": null,
   "id": "34fe4413-25f1-45f9-84b0-a4340cb871b0",
   "metadata": {},
   "outputs": [],
   "source": []
  }
 ],
 "metadata": {
  "kernelspec": {
   "display_name": "Python 3 (ipykernel)",
   "language": "python",
   "name": "python3"
  },
  "language_info": {
   "codemirror_mode": {
    "name": "ipython",
    "version": 3
   },
   "file_extension": ".py",
   "mimetype": "text/x-python",
   "name": "python",
   "nbconvert_exporter": "python",
   "pygments_lexer": "ipython3",
   "version": "3.12.0"
  }
 },
 "nbformat": 4,
 "nbformat_minor": 5
}
